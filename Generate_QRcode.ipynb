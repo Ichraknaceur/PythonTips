{
  "nbformat": 4,
  "nbformat_minor": 0,
  "metadata": {
    "colab": {
      "name": "Generate_QRcode.ipynb",
      "provenance": [],
      "toc_visible": true
    },
    "kernelspec": {
      "name": "python3",
      "display_name": "Python 3"
    },
    "language_info": {
      "name": "python"
    }
  },
  "cells": [
    {
      "cell_type": "code",
      "source": [
        "!pip install qrcode"
      ],
      "metadata": {
        "colab": {
          "base_uri": "https://localhost:8080/"
        },
        "id": "6ZprycrBsXxH",
        "outputId": "b633aa19-505b-4e3a-a011-5cf0935344ed"
      },
      "execution_count": null,
      "outputs": [
        {
          "output_type": "stream",
          "name": "stdout",
          "text": [
            "Collecting qrcode\n",
            "  Downloading qrcode-7.3.1.tar.gz (43 kB)\n",
            "\u001b[?25l\r\u001b[K     |███████▌                        | 10 kB 31.7 MB/s eta 0:00:01\r\u001b[K     |███████████████                 | 20 kB 39.6 MB/s eta 0:00:01\r\u001b[K     |██████████████████████▋         | 30 kB 27.2 MB/s eta 0:00:01\r\u001b[K     |██████████████████████████████▏ | 40 kB 24.1 MB/s eta 0:00:01\r\u001b[K     |████████████████████████████████| 43 kB 1.2 MB/s \n",
            "\u001b[?25hBuilding wheels for collected packages: qrcode\n",
            "  Building wheel for qrcode (setup.py) ... \u001b[?25l\u001b[?25hdone\n",
            "  Created wheel for qrcode: filename=qrcode-7.3.1-py3-none-any.whl size=40402 sha256=7ffb8f325f79fafd5211c06d8c93cdcb8f692bd8f34cdfdad728e102d247c77a\n",
            "  Stored in directory: /root/.cache/pip/wheels/93/d7/39/a4111be2cfb8e679938aa671a37888b6afb1f9e7d748e94492\n",
            "Successfully built qrcode\n",
            "Installing collected packages: qrcode\n",
            "Successfully installed qrcode-7.3.1\n"
          ]
        }
      ]
    },
    {
      "cell_type": "code",
      "execution_count": null,
      "metadata": {
        "id": "ppcVie5esNbE"
      },
      "outputs": [],
      "source": [
        "import qrcode"
      ]
    },
    {
      "cell_type": "code",
      "source": [
        "img = qrcode.make('http://www.1wayfm.com/login')"
      ],
      "metadata": {
        "id": "oIlZaUfHsfy2"
      },
      "execution_count": null,
      "outputs": []
    },
    {
      "cell_type": "code",
      "source": [
        "img.save('gerhom.jpg')"
      ],
      "metadata": {
        "id": "wBDCF4wtswUu"
      },
      "execution_count": null,
      "outputs": []
    }
  ]
}