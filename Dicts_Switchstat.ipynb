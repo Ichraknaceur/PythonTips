{
  "nbformat": 4,
  "nbformat_minor": 0,
  "metadata": {
    "colab": {
      "name": "Dicts_Switchstat.ipynb",
      "provenance": []
    },
    "kernelspec": {
      "name": "python3",
      "display_name": "Python 3"
    },
    "language_info": {
      "name": "python"
    }
  },
  "cells": [
    {
      "cell_type": "markdown",
      "source": [
        "### Switch /case statements \n",
        "\n"
      ],
      "metadata": {
        "id": "EUxWKJnaWzkM"
      }
    },
    {
      "cell_type": "code",
      "execution_count": 1,
      "metadata": {
        "id": "FwhIiYKgWOli"
      },
      "outputs": [],
      "source": [
        "def dispatch_if(operator, x, y):\n",
        "    if operator == 'add':\n",
        "        return x + y\n",
        "    elif operator == 'sub':\n",
        "        return x - y\n",
        "    elif operator == 'mul':\n",
        "        return x * y\n",
        "    elif operator == 'div':\n",
        "        return x / y\n",
        "    else:\n",
        "        return None"
      ]
    },
    {
      "cell_type": "code",
      "source": [
        " dispatch_if('add', 2, 3)"
      ],
      "metadata": {
        "colab": {
          "base_uri": "https://localhost:8080/"
        },
        "id": "L_PibqLtWU8P",
        "outputId": "e7be1560-38b1-4350-9712-5b308998a6a5"
      },
      "execution_count": 2,
      "outputs": [
        {
          "output_type": "execute_result",
          "data": {
            "text/plain": [
              "5"
            ]
          },
          "metadata": {},
          "execution_count": 2
        }
      ]
    },
    {
      "cell_type": "markdown",
      "source": [
        "### Dicts "
      ],
      "metadata": {
        "id": "Iy86ckLfW9Nt"
      }
    },
    {
      "cell_type": "code",
      "source": [
        "def dispatch_dict(operator, x, y):\n",
        "    return {\n",
        "        'add': lambda: x + y,\n",
        "        'sub': lambda: x - y,\n",
        "        'mul': lambda: x * y,\n",
        "        'div': lambda: x / y,\n",
        "    }.get(operator, lambda: None)()\n"
      ],
      "metadata": {
        "id": "7C1ZqTNbWmQs"
      },
      "execution_count": 3,
      "outputs": []
    },
    {
      "cell_type": "code",
      "source": [
        "dispatch_dict('add', 2, 3)"
      ],
      "metadata": {
        "colab": {
          "base_uri": "https://localhost:8080/"
        },
        "id": "W1xG15bwWr6E",
        "outputId": "5ecb41e1-c7d3-4cfd-dfbd-8d0acb7d044a"
      },
      "execution_count": 4,
      "outputs": [
        {
          "output_type": "execute_result",
          "data": {
            "text/plain": [
              "5"
            ]
          },
          "metadata": {},
          "execution_count": 4
        }
      ]
    }
  ]
}